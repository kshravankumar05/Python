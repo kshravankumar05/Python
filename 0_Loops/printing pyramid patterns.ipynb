{
 "cells": [
  {
   "cell_type": "code",
   "execution_count": 13,
   "metadata": {},
   "outputs": [
    {
     "name": "stdout",
     "output_type": "stream",
     "text": [
      "enter the number5\n",
      "*\n",
      "**\n",
      "***\n",
      "****\n",
      "*****\n"
     ]
    }
   ],
   "source": [
    "#simple\n",
    "\n",
    "# Function to demonstrate printing pattern \n",
    "def pypart(n):\n",
    "    # outer loop to handle number of rows \n",
    "    # n in this case \n",
    "    for i in range(0, n): \n",
    "        # inner loop to handle number of columns \n",
    "        # values changing acc. to outer loop \n",
    "        for j in range(0, i+1): \n",
    "            # printing stars \n",
    "            print(\"*\",end=\"\")\n",
    "            # ending line after each row\n",
    "        print(\"\\r\") \n",
    "\n",
    "# Driver Code \n",
    "#n = 5 #two ways of giing input to the code\n",
    "n=int(input(\"enter the number\"))\n",
    "pypart(n) "
   ]
  },
  {
   "cell_type": "code",
   "execution_count": 14,
   "metadata": {},
   "outputs": [
    {
     "name": "stdout",
     "output_type": "stream",
     "text": [
      "        * \r\n",
      "      * * \r\n",
      "    * * * \r\n",
      "  * * * * \r\n",
      "* * * * * \r\n"
     ]
    }
   ],
   "source": [
    "#After 180 degree rotation\n",
    "# Python 3.x code to demonstrate star pattern \n",
    "\n",
    "# Function to demonstrate printing pattern \n",
    "def pypart2(n): \n",
    "\t\n",
    "\t# number of spaces \n",
    "\tk = 2*n - 2\n",
    "\n",
    "\t# outer loop to handle number of rows \n",
    "\tfor i in range(0, n): \n",
    "\t\n",
    "\t\t# inner loop to handle number spaces \n",
    "\t\t# values changing acc. to requirement \n",
    "\t\tfor j in range(0, k): \n",
    "\t\t\tprint(end=\" \") \n",
    "\t\n",
    "\t\t# decrementing k after each loop \n",
    "\t\tk = k - 2\n",
    "\t\n",
    "\t\t# inner loop to handle number of columns \n",
    "\t\t# values changing acc. to outer loop \n",
    "\t\tfor j in range(0, i+1): \n",
    "\t\t\n",
    "\t\t\t# printing stars \n",
    "\t\t\tprint(\"* \", end=\"\") \n",
    "\t\n",
    "\t\t# ending line after each row \n",
    "\t\tprint(\"\\r\") \n",
    "\n",
    "# Driver Code \n",
    "n = 5\n",
    "pypart2(n) \n"
   ]
  },
  {
   "cell_type": "code",
   "execution_count": 15,
   "metadata": {},
   "outputs": [
    {
     "name": "stdout",
     "output_type": "stream",
     "text": [
      "        * \r\n",
      "       * * \r\n",
      "      * * * \r\n",
      "     * * * * \r\n",
      "    * * * * * \r\n"
     ]
    }
   ],
   "source": [
    "# Python 3.x code to demonstrate star pattern \n",
    "\n",
    "# Function to demonstrate printing pattern triangle \n",
    "def triangle(n): \n",
    "\t\n",
    "\t# number of spaces \n",
    "\tk = 2*n - 2\n",
    "\n",
    "\t# outer loop to handle number of rows \n",
    "\tfor i in range(0, n): \n",
    "\t\n",
    "\t\t# inner loop to handle number spaces \n",
    "\t\t# values changing acc. to requirement \n",
    "\t\tfor j in range(0, k): \n",
    "\t\t\tprint(end=\" \") \n",
    "\t\n",
    "\t\t# decrementing k after each loop \n",
    "\t\tk = k - 1\n",
    "\t\n",
    "\t\t# inner loop to handle number of columns \n",
    "\t\t# values changing acc. to outer loop \n",
    "\t\tfor j in range(0, i+1): \n",
    "\t\t\n",
    "\t\t\t# printing stars \n",
    "\t\t\tprint(\"* \", end=\"\") \n",
    "\t\n",
    "\t\t# ending line after each row \n",
    "\t\tprint(\"\\r\") \n",
    "\n",
    "# Driver Code \n",
    "n = 5\n",
    "triangle(n) \n"
   ]
  },
  {
   "cell_type": "code",
   "execution_count": 16,
   "metadata": {},
   "outputs": [
    {
     "name": "stdout",
     "output_type": "stream",
     "text": [
      "1 \r\n",
      "1 2 \r\n",
      "1 2 3 \r\n",
      "1 2 3 4 \r\n",
      "1 2 3 4 5 \r\n"
     ]
    }
   ],
   "source": [
    "# Python 3.x code to demonstrate star pattern \n",
    "\n",
    "# Function to demonstrate printing pattern of numbers \n",
    "def numpat(n): \n",
    "\t\n",
    "\t# initialising starting number \n",
    "\tnum = 1\n",
    "\n",
    "\t# outer loop to handle number of rows \n",
    "\tfor i in range(0, n): \n",
    "\t\n",
    "\t\t# re assigning num \n",
    "\t\tnum = 1\n",
    "\t\n",
    "\t\t# inner loop to handle number of columns \n",
    "\t\t\t# values changing acc. to outer loop \n",
    "\t\tfor j in range(0, i+1): \n",
    "\t\t\n",
    "\t\t\t\t# printing number \n",
    "\t\t\tprint(num, end=\" \") \n",
    "\t\t\n",
    "\t\t\t# incrementing number at each column \n",
    "\t\t\tnum = num + 1\n",
    "\t\n",
    "\t\t# ending line after each row \n",
    "\t\tprint(\"\\r\") \n",
    "\n",
    "# Driver code \n",
    "n = 5\n",
    "numpat(n) \n"
   ]
  },
  {
   "cell_type": "code",
   "execution_count": 17,
   "metadata": {},
   "outputs": [
    {
     "name": "stdout",
     "output_type": "stream",
     "text": [
      "1 \r\n",
      "2 3 \r\n",
      "4 5 6 \r\n",
      "7 8 9 10 \r\n",
      "11 12 13 14 15 \r\n"
     ]
    }
   ],
   "source": [
    "# Python 3.x code to demonstrate star pattern \n",
    "\n",
    "# Function to demonstrate printing pattern of numbers \n",
    "def contnum(n): \n",
    "\t\n",
    "\t# initializing starting number \n",
    "\tnum = 1\n",
    "\n",
    "\t# outer loop to handle number of rows \n",
    "\tfor i in range(0, n): \n",
    "\t\n",
    "\t\t# not re assigning num \n",
    "\t\t# num = 1 \n",
    "\t\n",
    "\t\t# inner loop to handle number of columns \n",
    "\t\t# values changing acc. to outer loop \n",
    "\t\tfor j in range(0, i+1): \n",
    "\t\t\n",
    "\t\t\t# printing number \n",
    "\t\t\tprint(num, end=\" \") \n",
    "\t\t\n",
    "\t\t\t# incrementing number at each column \n",
    "\t\t\tnum = num + 1\n",
    "\t\n",
    "\t\t# ending line after each row \n",
    "\t\tprint(\"\\r\") \n",
    "\n",
    "n = 5\n",
    "\n",
    "# sending 5 as argument \n",
    "# calling Function \n",
    "contnum(n) \n"
   ]
  },
  {
   "cell_type": "code",
   "execution_count": 18,
   "metadata": {},
   "outputs": [
    {
     "name": "stdout",
     "output_type": "stream",
     "text": [
      "A \r\n",
      "B B \r\n",
      "C C C \r\n",
      "D D D D \r\n",
      "E E E E E \r\n"
     ]
    }
   ],
   "source": [
    "# Python 3.x code to demonstrate star pattern \n",
    "\n",
    "# Function to demonstrate printing pattern of alphabets \n",
    "def alphapat(n): \n",
    "\t\n",
    "\t# initializing value corresponding to 'A' \n",
    "\t# ASCII value \n",
    "\tnum = 65\n",
    "\n",
    "\t# outer loop to handle number of rows \n",
    "\t# 5 in this case \n",
    "\tfor i in range(0, n): \n",
    "\t\n",
    "\t\t# inner loop to handle number of columns \n",
    "\t\t# values changing acc. to outer loop \n",
    "\t\tfor j in range(0, i+1): \n",
    "\t\t\n",
    "\t\t\t# explicitely converting to char \n",
    "\t\t\tch = chr(num) \n",
    "\t\t\n",
    "\t\t\t# printing char value \n",
    "\t\t\tprint(ch, end=\" \") \n",
    "\t\n",
    "\t\t# incrementing number \n",
    "\t\tnum = num + 1\n",
    "\t\n",
    "\t\t# ending line after each row \n",
    "\t\tprint(\"\\r\") \n",
    "\n",
    "# Driver Code \n",
    "n = 5\n",
    "alphapat(n) \n"
   ]
  },
  {
   "cell_type": "code",
   "execution_count": 21,
   "metadata": {},
   "outputs": [
    {
     "ename": "TabError",
     "evalue": "inconsistent use of tabs and spaces in indentation (<ipython-input-21-75c240fc1573>, line 15)",
     "output_type": "error",
     "traceback": [
      "\u001b[1;36m  File \u001b[1;32m\"<ipython-input-21-75c240fc1573>\"\u001b[1;36m, line \u001b[1;32m15\u001b[0m\n\u001b[1;33m    for j in range(0, i+1):\u001b[0m\n\u001b[1;37m                            ^\u001b[0m\n\u001b[1;31mTabError\u001b[0m\u001b[1;31m:\u001b[0m inconsistent use of tabs and spaces in indentation\n"
     ]
    }
   ],
   "source": [
    "# Python code 3.x to demonstrate star pattern \n",
    "\n",
    "# Function to demonstrate printing pattern of alphabets \n",
    "def contalpha(n): \n",
    "\t\n",
    "\t# initializing value corresponding to 'A' \n",
    "\t# ASCII value \n",
    "\t#num = 65\n",
    "\n",
    "\t# outer loop to handle number of rows \n",
    "    for i in range(0, n): \n",
    "\t\n",
    "\t\t# inner loop to handle number of columns \n",
    "\t\t# values changing acc. to outer loop \n",
    "\t\tfor j in range(0, i+1): \n",
    "\t\t\n",
    "\t\t\t# explicitely converting to char \n",
    "\t\t\tch = chr(num) \n",
    "\t\t\n",
    "\t\t\t# printing char value \n",
    "\t\t\tprint(ch, end=\" \") \n",
    "\t\t\n",
    "\t\t\t# incrementing at each column \n",
    "\t\t\tnum = num +1\n",
    "\t\n",
    "\t\n",
    "\t\t# ending line after each row \n",
    "\t\tprint(\"\\r\") \n",
    "\n",
    "# Driver code \n",
    "n = 5\n",
    "contalpha(n) \n"
   ]
  },
  {
   "cell_type": "code",
   "execution_count": null,
   "metadata": {},
   "outputs": [],
   "source": []
  }
 ],
 "metadata": {
  "kernelspec": {
   "display_name": "Python 3",
   "language": "python",
   "name": "python3"
  },
  "language_info": {
   "codemirror_mode": {
    "name": "ipython",
    "version": 3
   },
   "file_extension": ".py",
   "mimetype": "text/x-python",
   "name": "python",
   "nbconvert_exporter": "python",
   "pygments_lexer": "ipython3",
   "version": "3.7.6"
  }
 },
 "nbformat": 4,
 "nbformat_minor": 4
}
