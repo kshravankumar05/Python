{
 "cells": [
  {
   "cell_type": "markdown",
   "metadata": {},
   "source": [
    "## Class & object"
   ]
  },
  {
   "cell_type": "code",
   "execution_count": 16,
   "metadata": {},
   "outputs": [
    {
     "name": "stdout",
     "output_type": "stream",
     "text": [
      "hello my name is: sunny\n",
      "my rollno is  100\n"
     ]
    }
   ],
   "source": [
    "class Student:\n",
    "    def __init__(self,rollno,name):\n",
    "        self.rollno=rollno\n",
    "        self.name=name\n",
    "    def talk(self):\n",
    "        print(\"hello my name is:\",self.name)\n",
    "        print(\"my rollno is \",self.rollno)\n",
    "\n",
    "s=Student(100,'sunny')\n",
    "s.talk()\n"
   ]
  },
  {
   "cell_type": "code",
   "execution_count": null,
   "metadata": {},
   "outputs": [],
   "source": []
  },
  {
   "cell_type": "code",
   "execution_count": 30,
   "metadata": {},
   "outputs": [
    {
     "name": "stdout",
     "output_type": "stream",
     "text": [
      "employ detials\n",
      "emoply id is: 3324\n",
      "emoply name is: kshravankumar\n",
      "employ date of joining is 12/02/2013\n",
      "name of the company is Python\n",
      "employ detials\n",
      "emoply id is: 3325\n",
      "emoply name is: sairam\n",
      "employ date of joining is 15/05/2013\n",
      "name of the company is Python\n"
     ]
    }
   ],
   "source": [
    "class Employ:\n",
    "    cname=\"Python\"\n",
    "    def __init__(self,name,empid,empdoj):\n",
    "        self.name=name\n",
    "        self.empid=empid\n",
    "        self.empdoj=empdoj\n",
    "    def emp(self):\n",
    "        print(\"employ detials\")\n",
    "        print(\"emoply id is:\",self.empid)\n",
    "        print(\"emoply name is:\",self.name)\n",
    "        print(\"employ date of joining is\",self.empdoj)\n",
    "    @classmethod\n",
    "    def empcmpyname(anything):\n",
    "        print(\"name of the company is\",anything.cname)\n",
    "        \n",
    "s=Employ('kshravankumar',3324,'12/02/2013')\n",
    "s.emp()\n",
    "s.empcmpyname()\n",
    "s1=Employ('sairam',3325,'15/05/2013')\n",
    "s1.emp()\n",
    "s1.empcmpyname()\n"
   ]
  },
  {
   "cell_type": "code",
   "execution_count": 30,
   "metadata": {},
   "outputs": [
    {
     "name": "stdout",
     "output_type": "stream",
     "text": [
      "<__main__.Stud object at 0x0632CED0>\n"
     ]
    }
   ],
   "source": [
    "rev=0\n",
    "\n",
    "while n>0:\n",
    "    n=n//10\n",
    "    x=n%10\n",
    "    "
   ]
  },
  {
   "cell_type": "markdown",
   "metadata": {},
   "source": [
    "inherite"
   ]
  },
  {
   "cell_type": "code",
   "execution_count": 14,
   "metadata": {},
   "outputs": [
    {
     "name": "stdout",
     "output_type": "stream",
     "text": [
      "methof of class one\n",
      "method of class second\n"
     ]
    }
   ],
   "source": [
    "class P:\n",
    "    def m1(self):\n",
    "        print(\"methof of class one\")\n",
    "class C(P):\n",
    "    def m2(self):\n",
    "        print(\"method of class second\")\n",
    "x=C()\n",
    "x.m1()\n",
    "x.m2()\n"
   ]
  },
  {
   "cell_type": "code",
   "execution_count": 26,
   "metadata": {},
   "outputs": [
    {
     "name": "stdout",
     "output_type": "stream",
     "text": [
      "Grand praent\n",
      "parent\n",
      "child\n"
     ]
    }
   ],
   "source": [
    "class GP:\n",
    "    def m1(self):\n",
    "        print(\"Grand praent\")\n",
    "\n",
    "class P(GP):\n",
    "    def m2(self):\n",
    "        print(\"parent\")\n",
    "\n",
    "class C(P):\n",
    "    def m3(self):\n",
    "        print(\"child\")\n",
    "        \n",
    "x=C()\n",
    "x.m1()\n",
    "x.m2()\n",
    "x.m3()"
   ]
  },
  {
   "cell_type": "code",
   "execution_count": 42,
   "metadata": {},
   "outputs": [
    {
     "name": "stdout",
     "output_type": "stream",
     "text": [
      "30\n",
      "40\n"
     ]
    }
   ],
   "source": [
    "class ADD:\n",
    "    def addtion(self):\n",
    "        a=10\n",
    "        b=20\n",
    "        print(a+b)\n",
    "class SUB(ADD):\n",
    "    def sub(self,c,d):\n",
    "        self.c=c\n",
    "        self.d=d\n",
    "        print(c+d)\n",
    "        \n",
    "x=SUB()\n",
    "x.addtion()\n",
    "x.sub(20,20)"
   ]
  },
  {
   "cell_type": "code",
   "execution_count": null,
   "metadata": {},
   "outputs": [],
   "source": [
    "class REV:\n",
    "    def rev(self,n):\n",
    "        self.n=n\n",
    "        sum=0\n",
    "        while n>0:\n",
    "            x=n%10\n",
    "            n=n//10\n",
    "            sum=sum*10+x    \n",
    "        print(sum)\n",
    "class ADD(REV):\n",
    "    def add(self):\n",
    "        print(a+b)\n",
    "\n",
    "n= int(input(\"enter the number to be reversered\"))\n",
    "x=ADD()\n",
    "x.rev(n)\n",
    "x.add(10,20)\n"
   ]
  },
  {
   "cell_type": "code",
   "execution_count": null,
   "metadata": {},
   "outputs": [],
   "source": []
  },
  {
   "cell_type": "code",
   "execution_count": null,
   "metadata": {},
   "outputs": [],
   "source": []
  }
 ],
 "metadata": {
  "kernelspec": {
   "display_name": "Python 3",
   "language": "python",
   "name": "python3"
  },
  "language_info": {
   "codemirror_mode": {
    "name": "ipython",
    "version": 3
   },
   "file_extension": ".py",
   "mimetype": "text/x-python",
   "name": "python",
   "nbconvert_exporter": "python",
   "pygments_lexer": "ipython3",
   "version": "3.7.4"
  }
 },
 "nbformat": 4,
 "nbformat_minor": 4
}
