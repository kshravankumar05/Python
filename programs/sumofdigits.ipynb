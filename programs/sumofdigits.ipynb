{
 "cells": [
  {
   "cell_type": "code",
   "execution_count": 8,
   "metadata": {},
   "outputs": [
    {
     "name": "stdout",
     "output_type": "stream",
     "text": [
      "Please Enter any Number: 1234\n",
      "\n",
      " Sum of the digits of Given Number = 10\n"
     ]
    }
   ],
   "source": [
    "Number = int(input(\"Please Enter any Number: \"))\n",
    "Sum = 0\n",
    "\n",
    "while(Number > 0):\n",
    "    Reminder = Number % 10\n",
    "    Sum = Sum + Reminder\n",
    "    Number = Number //10\n",
    "\n",
    "print(\"\\n Sum of the digits of Given Number = %d\" %Sum)"
   ]
  },
  {
   "cell_type": "code",
   "execution_count": null,
   "metadata": {},
   "outputs": [],
   "source": [
    "n=int(input(\"enter the number/\"))\n",
    "def sumofdigits(n):\n",
    "    sum=0\n",
    "    while(n>0):\n",
    "        x=n%10\n",
    "        p=sum*10+x\n",
    "        n=n//10\n",
    "    print(p)\n",
    "sumofdigits(n)"
   ]
  },
  {
   "cell_type": "code",
   "execution_count": null,
   "metadata": {},
   "outputs": [],
   "source": [
    "# Python3 implementation of the approach \n",
    "\n",
    "# Function to return the \n",
    "# sum of digits of n \n",
    "def digitSum(n) : \n",
    "\n",
    "\tsum = 0; \n",
    "\twhile (n > 0) : \n",
    "\t\tsum += (n % 10); \n",
    "\t\tn //= 10; \n",
    "\n",
    "\treturn sum; \n",
    "\n",
    "# Function that returns true \n",
    "# if n is palindrome \n",
    "def isPalindrome(n) : \n",
    "\n",
    "\t# Find the appropriate divisor \n",
    "\t# to extract the leading digit \n",
    "\tdivisor = 1; \n",
    "\twhile (n // divisor >= 10) : \n",
    "\t\tdivisor *= 10; \n",
    "\n",
    "\twhile (n != 0) : \n",
    "\t\tleading = n // divisor; \n",
    "\t\ttrailing = n % 10; \n",
    "\n",
    "\t\t# If first and last digit \n",
    "\t\t# not same return false \n",
    "\t\tif (leading != trailing) : \n",
    "\t\t\treturn False; \n",
    "\n",
    "\t\t# Removing the leading and trailing \n",
    "\t\t# digit from number \n",
    "\t\tn = (n % divisor) // 10; \n",
    "\n",
    "\t\t# Reducing divisor by a factor \n",
    "\t\t# of 2 as 2 digits are dropped \n",
    "\t\tdivisor = divisor // 100; \n",
    "\n",
    "\treturn True; \n",
    "\n",
    "# Function that returns true if \n",
    "# the digit sum of n is palindrome \n",
    "def isDigitSumPalindrome(n) : \n",
    "\n",
    "\t# Sum of the digits of n \n",
    "\tsum = digitSum(n); \n",
    "\n",
    "\t# If the digit sum is palindrome \n",
    "\tif (isPalindrome(sum)) : \n",
    "\t\treturn True; \n",
    "\treturn False; \n",
    "\n",
    "# Driver code \n",
    "if __name__ == \"__main__\" : \n",
    "\n",
    "\tn = 56; \n",
    "\n",
    "\tif (isDigitSumPalindrome(n)) : \n",
    "\t\tprint(\"Yes\"); \n",
    "\telse : \n",
    "\t\tprint(\"No\"); \n",
    "\n",
    "# This code is contributed by AnkitRai01 \n"
   ]
  },
  {
   "cell_type": "code",
   "execution_count": null,
   "metadata": {},
   "outputs": [],
   "source": []
  }
 ],
 "metadata": {
  "kernelspec": {
   "display_name": "Python 3",
   "language": "python",
   "name": "python3"
  },
  "language_info": {
   "codemirror_mode": {
    "name": "ipython",
    "version": 3
   },
   "file_extension": ".py",
   "mimetype": "text/x-python",
   "name": "python",
   "nbconvert_exporter": "python",
   "pygments_lexer": "ipython3",
   "version": "3.7.6"
  }
 },
 "nbformat": 4,
 "nbformat_minor": 4
}
