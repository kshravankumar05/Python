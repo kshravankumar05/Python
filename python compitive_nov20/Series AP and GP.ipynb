{
 "cells": [
  {
   "cell_type": "code",
   "execution_count": 4,
   "metadata": {},
   "outputs": [
    {
     "name": "stdout",
     "output_type": "stream",
     "text": [
      "enter the number of elements5\n",
      "give the starting number1\n",
      "enter the common diffrenece3\n",
      "________________________\n",
      "1\n",
      "4\n",
      "7\n",
      "10\n",
      "13\n"
     ]
    }
   ],
   "source": [
    "#series of Ap\n",
    "N=int(input(\"enter the number of elements\"))#no of  terms\n",
    "A=int(input(\"give the starting number\"))#starting elements\n",
    "d=int(input(\"enter the common diffrenece\"))# common difference\n",
    "print(\"________________________\")\n",
    "x=A\n",
    "for i in range(1,N+1):\n",
    "    print(x)\n",
    "    x=x+d\n",
    "    "
   ]
  },
  {
   "cell_type": "code",
   "execution_count": 1,
   "metadata": {},
   "outputs": [],
   "source": [
    "#series of AP\n",
    "#n is the number of terms to be printed\n",
    "#a is the staring number of the series\n",
    "#d= commmon difference\n",
    "def printAp(n,a,d):\n",
    "    x=a\n",
    "    for i in range(1,n+1):\n",
    "        print(x)\n",
    "        x=x+d\n",
    "        "
   ]
  },
  {
   "cell_type": "code",
   "execution_count": 3,
   "metadata": {},
   "outputs": [
    {
     "name": "stdout",
     "output_type": "stream",
     "text": [
      "1\n",
      "3\n",
      "5\n",
      "7\n",
      "9\n",
      "11\n",
      "13\n",
      "15\n",
      "17\n",
      "19\n"
     ]
    }
   ],
   "source": [
    "printAp(10,1,2)"
   ]
  },
  {
   "cell_type": "code",
   "execution_count": null,
   "metadata": {},
   "outputs": [],
   "source": []
  }
 ],
 "metadata": {
  "kernelspec": {
   "display_name": "Python 3",
   "language": "python",
   "name": "python3"
  },
  "language_info": {
   "codemirror_mode": {
    "name": "ipython",
    "version": 3
   },
   "file_extension": ".py",
   "mimetype": "text/x-python",
   "name": "python",
   "nbconvert_exporter": "python",
   "pygments_lexer": "ipython3",
   "version": "3.7.4"
  }
 },
 "nbformat": 4,
 "nbformat_minor": 2
}
