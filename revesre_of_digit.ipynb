{
 "cells": [
  {
   "cell_type": "code",
   "execution_count": null,
   "metadata": {},
   "outputs": [],
   "source": [
    "class Solution:\n",
    "\tdef reverse_digit(self, n):\n",
    "\t    self.n=n\n",
    "\t    sum=0\n",
    "\t    while n!=0:\n",
    "\t        x=n%10\n",
    "\t        n=n//10\n",
    "\t        sum=sum*10+x\n",
    "\t    #print(sum)\n",
    "        return sum\n",
    "\t\t# Code here\n",
    "\n",
    "\n",
    "\n",
    "#{ \n",
    "#  Driver Code Starts\n",
    "#Initial Template for Python 3\n",
    "\n",
    "if __name__ == '__main__':\n",
    "\tT=int(input())\n",
    "\tfor i in range(T):\n",
    "\t\tn = int(input())\n",
    "\t\tob = Solution();\n",
    "\t\tans = ob.reverse_digit(n)\n",
    "\t\tprint(ans)\n",
    "# } Driver Code Ends"
   ]
  }
 ],
 "metadata": {
  "kernelspec": {
   "display_name": "Python 3",
   "language": "python",
   "name": "python3"
  },
  "language_info": {
   "codemirror_mode": {
    "name": "ipython",
    "version": 3
   },
   "file_extension": ".py",
   "mimetype": "text/x-python",
   "name": "python",
   "nbconvert_exporter": "python",
   "pygments_lexer": "ipython3",
   "version": "3.7.4"
  }
 },
 "nbformat": 4,
 "nbformat_minor": 2
}
